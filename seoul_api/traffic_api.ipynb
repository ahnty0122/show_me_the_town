{
 "cells": [
  {
   "cell_type": "markdown",
   "metadata": {},
   "source": [
    "### 교통 데이터 "
   ]
  },
  {
   "cell_type": "code",
   "execution_count": 21,
   "metadata": {},
   "outputs": [],
   "source": [
    "import pandas as pd\n",
    "from bs4 import BeautifulSoup\n",
    "import requests\n",
    "import time"
   ]
  },
  {
   "cell_type": "code",
   "execution_count": 302,
   "metadata": {},
   "outputs": [],
   "source": [
    "key = '516d6754546b737737336a69514b79'\n",
    "statnNm = '총신대입구(이수)'"
   ]
  },
  {
   "cell_type": "code",
   "execution_count": 303,
   "metadata": {},
   "outputs": [
    {
     "name": "stdout",
     "output_type": "stream",
     "text": [
      "<?xml version=\"1.0\" encoding=\"UTF-8\" standalone=\"yes\"?><busstation><row><rownum>1</rownum><selectedcount>5</selectedcount><totalcount>34</totalcount><statnid>1004000432</statnid><statnnm>총신대입구(이수)</statnnm><subwayid>1004</subwayid><subwaynm>4호선</subwaynm><ectrcno>1</ectrcno><sttnid>119000286</sttnid><sttnnm>총신대입구역.남성시장입구앞</sttnnm><mvmndstnc>58</mvmndstnc><subwayxcnts>198428.1</subwayxcnts><subwayycnts>443202.2</subwayycnts></row><row><rownum>2</rownum><selectedcount>5</selectedcount><totalcount>34</totalcount><statnid>1004000432</statnid><statnnm>총신대입구(이수)</statnnm><subwayid>1004</subwayid><subwaynm>4호선</subwaynm><ectrcno>1</ectrcno><sttnid>121000532</sttnid><sttnnm>총신대입구역.남성시장입구앞</sttnnm><mvmndstnc>29</mvmndstnc><subwayxcnts>198437.3</subwayxcnts><subwayycnts>443126.3</subwayycnts></row><row><rownum>3</rownum><selectedcount>5</selectedcount><totalcount>34</totalcount><statnid>1007000736</statnid><statnnm>총신대입구(이수)</statnnm><subwayid>1007</subwayid><subwaynm>7호선</subwaynm><ectrcno>10</ectrcno><sttnid>119000089</sttnid><sttnnm>남성초등학교</sttnnm><mvmndstnc>141</mvmndstnc><subwayxcnts>198152.6</subwayxcnts><subwayycnts>442751.5</subwayycnts></row><row><rownum>4</rownum><selectedcount>5</selectedcount><totalcount>34</totalcount><statnid>1007000736</statnid><statnnm>총신대입구(이수)</statnnm><subwayid>1007</subwayid><subwaynm>7호선</subwaynm><ectrcno>10</ectrcno><sttnid>119000090</sttnid><sttnnm>남성초등학교</sttnnm><mvmndstnc>130</mvmndstnc><subwayxcnts>198145.6</subwayxcnts><subwayycnts>442783.8</subwayycnts></row><row><rownum>5</rownum><selectedcount>5</selectedcount><totalcount>34</totalcount><statnid>1007000736</statnid><statnnm>총신대입구(이수)</statnnm><subwayid>1007</subwayid><subwaynm>7호선</subwaynm><ectrcno>10</ectrcno><sttnid>119000091</sttnid><sttnnm>이수역9번출구</sttnnm><mvmndstnc>35</mvmndstnc><subwayxcnts>198286.7</subwayxcnts><subwayycnts>442816.9</subwayycnts></row><result><code>INFO-000</code><developermessage></developermessage><link/><message>정상 처리되었습니다.</message><status>200</status><total>34</total></result></busstation>\n"
     ]
    }
   ],
   "source": [
    "url = 'http://swopenapi.seoul.go.kr/api/subway/516d6754546b737737336a69514b79/xml/busStation/0/5/' + str(statnNm)\n",
    "req = requests.get(url)\n",
    "html=req.text\n",
    "soup=BeautifulSoup(html, 'html.parser')\n",
    "\n",
    "print(soup)"
   ]
  },
  {
   "cell_type": "code",
   "execution_count": 304,
   "metadata": {},
   "outputs": [],
   "source": [
    "bus = soup.find_all('sttnnm')\n",
    "buslist = [x.text for x in bus][:10]\n",
    "subway = soup.find_all('statnnm')\n",
    "subwaylist = [x.text for x in subway][:10]\n",
    "busID = soup.find_all('sttnid')\n",
    "busIDlist = [x.text for x in busID][:10]\n",
    "distance = soup.find_all('mvmndstnc')\n",
    "distancelist = [x.text for x in distance][:10]\n",
    "subwaynumber = soup.find_all('subwaynm')\n",
    "subwaynumberlist = [x.text for x in subwaynumber][:10]"
   ]
  },
  {
   "cell_type": "code",
   "execution_count": 305,
   "metadata": {},
   "outputs": [
    {
     "name": "stdout",
     "output_type": "stream",
     "text": [
      "['총신대입구역.남성시장입구앞', '총신대입구역.남성시장입구앞', '남성초등학교', '남성초등학교', '이수역9번출구']\n",
      "['총신대입구(이수)', '총신대입구(이수)', '총신대입구(이수)', '총신대입구(이수)', '총신대입구(이수)']\n",
      "['119000286', '121000532', '119000089', '119000090', '119000091']\n",
      "['58', '29', '141', '130', '35']\n",
      "['4호선', '4호선', '7호선', '7호선', '7호선']\n"
     ]
    }
   ],
   "source": [
    "print(buslist)\n",
    "print(subwaylist)\n",
    "print(busIDlist)\n",
    "print(distancelist)\n",
    "print(subwaynumberlist)"
   ]
  },
  {
   "cell_type": "code",
   "execution_count": 306,
   "metadata": {
    "scrolled": true
   },
   "outputs": [
    {
     "data": {
      "text/html": [
       "<div>\n",
       "<style scoped>\n",
       "    .dataframe tbody tr th:only-of-type {\n",
       "        vertical-align: middle;\n",
       "    }\n",
       "\n",
       "    .dataframe tbody tr th {\n",
       "        vertical-align: top;\n",
       "    }\n",
       "\n",
       "    .dataframe thead th {\n",
       "        text-align: right;\n",
       "    }\n",
       "</style>\n",
       "<table border=\"1\" class=\"dataframe\">\n",
       "  <thead>\n",
       "    <tr style=\"text-align: right;\">\n",
       "      <th></th>\n",
       "      <th>지하철</th>\n",
       "      <th>버스</th>\n",
       "      <th>버스ID</th>\n",
       "    </tr>\n",
       "  </thead>\n",
       "  <tbody>\n",
       "    <tr>\n",
       "      <td>0</td>\n",
       "      <td>총신대입구(이수)</td>\n",
       "      <td>총신대입구역.남성시장입구앞</td>\n",
       "      <td>119000286</td>\n",
       "    </tr>\n",
       "    <tr>\n",
       "      <td>1</td>\n",
       "      <td>총신대입구(이수)</td>\n",
       "      <td>총신대입구역.남성시장입구앞</td>\n",
       "      <td>121000532</td>\n",
       "    </tr>\n",
       "    <tr>\n",
       "      <td>2</td>\n",
       "      <td>총신대입구(이수)</td>\n",
       "      <td>남성초등학교</td>\n",
       "      <td>119000089</td>\n",
       "    </tr>\n",
       "    <tr>\n",
       "      <td>3</td>\n",
       "      <td>총신대입구(이수)</td>\n",
       "      <td>남성초등학교</td>\n",
       "      <td>119000090</td>\n",
       "    </tr>\n",
       "    <tr>\n",
       "      <td>4</td>\n",
       "      <td>총신대입구(이수)</td>\n",
       "      <td>이수역9번출구</td>\n",
       "      <td>119000091</td>\n",
       "    </tr>\n",
       "  </tbody>\n",
       "</table>\n",
       "</div>"
      ],
      "text/plain": [
       "         지하철              버스       버스ID\n",
       "0  총신대입구(이수)  총신대입구역.남성시장입구앞  119000286\n",
       "1  총신대입구(이수)  총신대입구역.남성시장입구앞  121000532\n",
       "2  총신대입구(이수)          남성초등학교  119000089\n",
       "3  총신대입구(이수)          남성초등학교  119000090\n",
       "4  총신대입구(이수)         이수역9번출구  119000091"
      ]
     },
     "execution_count": 306,
     "metadata": {},
     "output_type": "execute_result"
    }
   ],
   "source": [
    "col = ['지하철', '버스' ,'버스ID']\n",
    "dic = {'지하철':subwaylist, '버스':buslist, '버스ID':busIDlist}\n",
    "data = pd.DataFrame(dic)\n",
    "data.columns = col\n",
    "data"
   ]
  },
  {
   "cell_type": "code",
   "execution_count": null,
   "metadata": {},
   "outputs": [],
   "source": []
  },
  {
   "cell_type": "code",
   "execution_count": null,
   "metadata": {},
   "outputs": [],
   "source": []
  }
 ],
 "metadata": {
  "kernelspec": {
   "display_name": "Python 3",
   "language": "python",
   "name": "python3"
  },
  "language_info": {
   "codemirror_mode": {
    "name": "ipython",
    "version": 3
   },
   "file_extension": ".py",
   "mimetype": "text/x-python",
   "name": "python",
   "nbconvert_exporter": "python",
   "pygments_lexer": "ipython3",
   "version": "3.7.4"
  }
 },
 "nbformat": 4,
 "nbformat_minor": 2
}

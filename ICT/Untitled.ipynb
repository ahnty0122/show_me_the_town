{
 "cells": [
  {
   "cell_type": "markdown",
   "metadata": {},
   "source": [
    "### 교통 데이터 "
   ]
  },
  {
   "cell_type": "code",
   "execution_count": 7,
   "metadata": {},
   "outputs": [],
   "source": [
    "import pandas as pd\n",
    "from bs4 import BeautifulSoup\n",
    "import requests\n",
    "import time"
   ]
  },
  {
   "cell_type": "code",
   "execution_count": 123,
   "metadata": {},
   "outputs": [],
   "source": [
    "key = '516d6754546b737737336a69514b79'\n",
    "statnNm = '성신여대입구'"
   ]
  },
  {
   "cell_type": "code",
   "execution_count": 124,
   "metadata": {},
   "outputs": [
    {
     "name": "stdout",
     "output_type": "stream",
     "text": [
      "<?xml version=\"1.0\" encoding=\"UTF-8\" standalone=\"yes\"?><busstation><row><rownum>1</rownum><selectedcount>5</selectedcount><totalcount>44</totalcount><statnid>1004000418</statnid><statnnm>성신여대입구</statnnm><subwayid>1004</subwayid><subwaynm>4호선</subwaynm><ectrcno>1</ectrcno><sttnid>107000007</sttnid><sttnnm>돈암사거리.성신여대입구</sttnnm><mvmndstnc>127</mvmndstnc><subwayxcnts>201601.1</subwayxcnts><subwayycnts>454913.1</subwayycnts></row><row><rownum>2</rownum><selectedcount>5</selectedcount><totalcount>44</totalcount><statnid>1004000418</statnid><statnnm>성신여대입구</statnnm><subwayid>1004</subwayid><subwaynm>4호선</subwaynm><ectrcno>1</ectrcno><sttnid>107000008</sttnid><sttnnm>돈암사거리.성신여대입구</sttnnm><mvmndstnc>72</mvmndstnc><subwayxcnts>201575.3</subwayxcnts><subwayycnts>454864.6</subwayycnts></row><row><rownum>3</rownum><selectedcount>5</selectedcount><totalcount>44</totalcount><statnid>1004000418</statnid><statnnm>성신여대입구</statnnm><subwayid>1004</subwayid><subwaynm>4호선</subwaynm><ectrcno>1</ectrcno><sttnid>107000174</sttnid><sttnnm>성신여대입구역</sttnnm><mvmndstnc>115</mvmndstnc><subwayxcnts>201434.1</subwayxcnts><subwayycnts>454874.6</subwayycnts></row><row><rownum>4</rownum><selectedcount>5</selectedcount><totalcount>44</totalcount><statnid>1004000418</statnid><statnnm>성신여대입구</statnnm><subwayid>1004</subwayid><subwaynm>4호선</subwaynm><ectrcno>1</ectrcno><sttnid>107000175</sttnid><sttnnm>성신여대입구역</sttnnm><mvmndstnc>13</mvmndstnc><subwayxcnts>201448</subwayxcnts><subwayycnts>454884.3</subwayycnts></row><row><rownum>5</rownum><selectedcount>5</selectedcount><totalcount>44</totalcount><statnid>1004000418</statnid><statnnm>성신여대입구</statnnm><subwayid>1004</subwayid><subwaynm>4호선</subwaynm><ectrcno>1</ectrcno><sttnid>107000209</sttnid><sttnnm>돈암시장입구</sttnnm><mvmndstnc>112</mvmndstnc><subwayxcnts>201459.5</subwayxcnts><subwayycnts>454719.7</subwayycnts></row><result><code>INFO-000</code><developermessage></developermessage><link/><message>정상 처리되었습니다.</message><status>200</status><total>44</total></result></busstation>\n"
     ]
    }
   ],
   "source": [
    "url = 'http://swopenapi.seoul.go.kr/api/subway/516d6754546b737737336a69514b79/xml/busStation/0/5/' + str(statnNm)\n",
    "req = requests.get(url)\n",
    "html=req.text\n",
    "soup=BeautifulSoup(html, 'html.parser')\n",
    "\n",
    "print(soup)"
   ]
  },
  {
   "cell_type": "code",
   "execution_count": 125,
   "metadata": {},
   "outputs": [],
   "source": [
    "bus = soup.find_all('sttnnm')\n",
    "buslist = [x.text for x in bus][:10]\n",
    "subway = soup.find_all('statnnm')\n",
    "subwaylist = [x.text for x in subway][:10]\n",
    "busID = soup.find_all('sttnid')\n",
    "busIDlist = [x.text for x in busID][:10]\n",
    "distance = soup.find_all('mvmndstnc')\n",
    "distancelist = [x.text for x in distance][:10]\n",
    "subwaynumber = soup.find_all('subwaynm')\n",
    "subwaynumberlist = [x.text for x in subwaynumber][:10]"
   ]
  },
  {
   "cell_type": "code",
   "execution_count": 126,
   "metadata": {},
   "outputs": [
    {
     "name": "stdout",
     "output_type": "stream",
     "text": [
      "['돈암사거리.성신여대입구', '돈암사거리.성신여대입구', '성신여대입구역', '성신여대입구역', '돈암시장입구']\n",
      "['성신여대입구', '성신여대입구', '성신여대입구', '성신여대입구', '성신여대입구']\n",
      "['107000007', '107000008', '107000174', '107000175', '107000209']\n",
      "['127', '72', '115', '13', '112']\n",
      "['4호선', '4호선', '4호선', '4호선', '4호선']\n"
     ]
    }
   ],
   "source": [
    "print(buslist)\n",
    "print(subwaylist)\n",
    "print(busIDlist)\n",
    "print(distancelist)\n",
    "print(subwaynumberlist)"
   ]
  },
  {
   "cell_type": "code",
   "execution_count": 127,
   "metadata": {
    "scrolled": true
   },
   "outputs": [
    {
     "data": {
      "text/html": [
       "<div>\n",
       "<style scoped>\n",
       "    .dataframe tbody tr th:only-of-type {\n",
       "        vertical-align: middle;\n",
       "    }\n",
       "\n",
       "    .dataframe tbody tr th {\n",
       "        vertical-align: top;\n",
       "    }\n",
       "\n",
       "    .dataframe thead th {\n",
       "        text-align: right;\n",
       "    }\n",
       "</style>\n",
       "<table border=\"1\" class=\"dataframe\">\n",
       "  <thead>\n",
       "    <tr style=\"text-align: right;\">\n",
       "      <th></th>\n",
       "      <th>지하철</th>\n",
       "      <th>버스</th>\n",
       "      <th>버스ID</th>\n",
       "    </tr>\n",
       "  </thead>\n",
       "  <tbody>\n",
       "    <tr>\n",
       "      <td>0</td>\n",
       "      <td>성신여대입구</td>\n",
       "      <td>돈암사거리.성신여대입구</td>\n",
       "      <td>107000007</td>\n",
       "    </tr>\n",
       "    <tr>\n",
       "      <td>1</td>\n",
       "      <td>성신여대입구</td>\n",
       "      <td>돈암사거리.성신여대입구</td>\n",
       "      <td>107000008</td>\n",
       "    </tr>\n",
       "    <tr>\n",
       "      <td>2</td>\n",
       "      <td>성신여대입구</td>\n",
       "      <td>성신여대입구역</td>\n",
       "      <td>107000174</td>\n",
       "    </tr>\n",
       "    <tr>\n",
       "      <td>3</td>\n",
       "      <td>성신여대입구</td>\n",
       "      <td>성신여대입구역</td>\n",
       "      <td>107000175</td>\n",
       "    </tr>\n",
       "    <tr>\n",
       "      <td>4</td>\n",
       "      <td>성신여대입구</td>\n",
       "      <td>돈암시장입구</td>\n",
       "      <td>107000209</td>\n",
       "    </tr>\n",
       "  </tbody>\n",
       "</table>\n",
       "</div>"
      ],
      "text/plain": [
       "      지하철            버스       버스ID\n",
       "0  성신여대입구  돈암사거리.성신여대입구  107000007\n",
       "1  성신여대입구  돈암사거리.성신여대입구  107000008\n",
       "2  성신여대입구       성신여대입구역  107000174\n",
       "3  성신여대입구       성신여대입구역  107000175\n",
       "4  성신여대입구        돈암시장입구  107000209"
      ]
     },
     "execution_count": 127,
     "metadata": {},
     "output_type": "execute_result"
    }
   ],
   "source": [
    "col = ['지하철', '버스' ,'버스ID']\n",
    "dic = {'지하철':subwaylist, '버스':buslist, '버스ID':busIDlist}\n",
    "data = pd.DataFrame(dic)\n",
    "data.columns = col\n",
    "data"
   ]
  },
  {
   "cell_type": "code",
   "execution_count": null,
   "metadata": {},
   "outputs": [],
   "source": []
  },
  {
   "cell_type": "code",
   "execution_count": null,
   "metadata": {},
   "outputs": [],
   "source": []
  }
 ],
 "metadata": {
  "kernelspec": {
   "display_name": "Python 3",
   "language": "python",
   "name": "python3"
  },
  "language_info": {
   "codemirror_mode": {
    "name": "ipython",
    "version": 3
   },
   "file_extension": ".py",
   "mimetype": "text/x-python",
   "name": "python",
   "nbconvert_exporter": "python",
   "pygments_lexer": "ipython3",
   "version": "3.7.4"
  }
 },
 "nbformat": 4,
 "nbformat_minor": 2
}
